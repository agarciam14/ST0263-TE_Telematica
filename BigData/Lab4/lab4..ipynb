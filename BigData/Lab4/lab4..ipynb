{
  "cells": [
    {
      "cell_type": "code",
      "execution_count": null,
      "metadata": {
        "autoscroll": "auto"
      },
      "outputs": [],
      "source": [
        "%sql\n",
        "show databases"
      ]
    },
    {
      "cell_type": "code",
      "execution_count": 1,
      "metadata": {
        "autoscroll": "auto"
      },
      "outputs": [],
      "source": [
        "%sql\n",
        "show tables\n",
        "\n"
      ]
    },
    {
      "cell_type": "code",
      "execution_count": 2,
      "metadata": {
        "autoscroll": "auto"
      },
      "outputs": [],
      "source": [
        "%sql\n",
        "use default\n"
      ]
    },
    {
      "cell_type": "code",
      "execution_count": 3,
      "metadata": {
        "autoscroll": "auto"
      },
      "outputs": [],
      "source": [
        "%sql\n",
        "SELECT `nombre departamento`,count(*) as `counter` FROM `default`.`covid1` GROUP BY `nombre departamento` ORDER BY `counter` DESC LIMIT 10;"
      ]
    },
    {
      "cell_type": "code",
      "execution_count": 4,
      "metadata": {
        "autoscroll": "auto"
      },
      "outputs": [],
      "source": [
        "%sql\n",
        "SELECT `nombre municipio`,count(*) as `counter` FROM `default`.`covid1` GROUP BY `nombre municipio` ORDER BY `counter` DESC LIMIT 10;"
      ]
    },
    {
      "cell_type": "code",
      "execution_count": 5,
      "metadata": {
        "autoscroll": "auto"
      },
      "outputs": [],
      "source": [
        "%sql\n",
        "SELECT `fecha reporte web`,count(*) as `counter` FROM `default`.`covid1` GROUP BY `fecha reporte web` ORDER BY `counter` DESC LIMIT 10;"
      ]
    },
    {
      "cell_type": "code",
      "execution_count": 6,
      "metadata": {
        "autoscroll": "auto"
      },
      "outputs": [],
      "source": [
        "%sql\n",
        "SELECT `unidad de medida de edad`, edad, count(*) as `counter` FROM `default`.`covid1` GROUP BY `unidad de medida de edad`, edad;"
      ]
    },
    {
      "cell_type": "code",
      "execution_count": 7,
      "metadata": {
        "autoscroll": "auto"
      },
      "outputs": [],
      "source": [
        "%sql\n",
        "SELECT `nombre departamento`,`unidad de medida de edad`, edad, count(*) as `counter` FROM `default`.`covid1` GROUP BY `nombre departamento`,`unidad de medida de edad`, edad ORDER BY `nombre departamento` ASC;"
      ]
    },
    {
      "cell_type": "code",
      "execution_count": 8,
      "metadata": {},
      "outputs": [],
      "source": [
        "%%sql\n"
      ]
    }
  ],
  "metadata": {
    "kernelspec": {
      "language": "scala",
      "name": "spark2-scala"
    },
    "language_info": {
      "codemirror_mode": "text/x-scala",
      "file_extension": ".scala",
      "mimetype": "text/x-scala",
      "name": "scala",
      "pygments_lexer": "scala"
    },
    "name": "lab4"
  },
  "nbformat": 4,
  "nbformat_minor": 2
}
